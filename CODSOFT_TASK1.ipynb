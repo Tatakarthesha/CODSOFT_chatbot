{
  "nbformat": 4,
  "nbformat_minor": 0,
  "metadata": {
    "colab": {
      "provenance": [],
      "authorship_tag": "ABX9TyPRwfd696SlZCFzdMtP+LXe",
      "include_colab_link": true
    },
    "kernelspec": {
      "name": "python3",
      "display_name": "Python 3"
    },
    "language_info": {
      "name": "python"
    }
  },
  "cells": [
    {
      "cell_type": "markdown",
      "metadata": {
        "id": "view-in-github",
        "colab_type": "text"
      },
      "source": [
        "<a href=\"https://colab.research.google.com/github/Tatakarthesha/CODSOFT_chatbot/blob/main/CODSOFT_TASK1.ipynb\" target=\"_parent\"><img src=\"https://colab.research.google.com/assets/colab-badge.svg\" alt=\"Open In Colab\"/></a>"
      ]
    },
    {
      "cell_type": "code",
      "execution_count": null,
      "metadata": {
        "id": "JR2nt2ZxVssL"
      },
      "outputs": [],
      "source": [
        "import re\n",
        "def simple_chatbot(user_input):\n",
        "  user_input = user_input.lower()\n",
        "  greetings = ['hello', 'hi','hey','greetings']\n",
        ""
      ]
    }
  ]
}