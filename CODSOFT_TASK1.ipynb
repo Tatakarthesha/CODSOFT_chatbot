{
  "nbformat": 4,
  "nbformat_minor": 0,
  "metadata": {
    "colab": {
      "provenance": [],
      "authorship_tag": "ABX9TyOrvUhugn9FhSdPRBtnholD",
      "include_colab_link": true
    },
    "kernelspec": {
      "name": "python3",
      "display_name": "Python 3"
    },
    "language_info": {
      "name": "python"
    }
  },
  "cells": [
    {
      "cell_type": "markdown",
      "metadata": {
        "id": "view-in-github",
        "colab_type": "text"
      },
      "source": [
        "<a href=\"https://colab.research.google.com/github/Tatakarthesha/CODSOFT_chatbot/blob/main/CODSOFT_TASK1.ipynb\" target=\"_parent\"><img src=\"https://colab.research.google.com/assets/colab-badge.svg\" alt=\"Open In Colab\"/></a>"
      ]
    },
    {
      "cell_type": "code",
      "execution_count": 9,
      "metadata": {
        "id": "JR2nt2ZxVssL",
        "colab": {
          "base_uri": "https://localhost:8080/"
        },
        "outputId": "83591221-cfbe-4ca4-b66f-dd98ff994f5c"
      },
      "outputs": [
        {
          "output_type": "stream",
          "name": "stdout",
          "text": [
            "I'm QUBAIDA how can i help you\n",
            "_____________________________________\n",
            "You: what is your name\n",
            "Chatbot: I'm a chatbot. you can call me QUBAIDA.\n",
            "You: who are you\n",
            "Chatbot: I'm a chatbot. you can call me QUBAIDA.\n",
            "You: what do you do\n",
            "Chatbot: I'm here to chat with you and answer your questions. what can I do for you today?\n",
            "You: what is your favorite color\n",
            "Chatbot: As a  program, I don't have a favorite color. But let's talk your preferences instead!\n",
            "You: exit\n",
            "Chatbot: Goodbye!\n"
          ]
        }
      ],
      "source": [
        "import re\n",
        "def simple_chatbot(user_input):\n",
        "  user_input = user_input.lower()\n",
        "  greetings = ['hello', 'hi','hey','greetings']\n",
        "  farewells = ['bye','goodbye','see you','farewell']\n",
        "  questions = ['how are you','what is your name','who are you','what do you do','what is your favorite color']\n",
        "  default_response = \"I'm a simple chatbot. You can greet me or ask me something.\"\n",
        "\n",
        "  if any(greeting in user_input for greeting in greetings):\n",
        "    return \"Hello! how can I help you today?\"\n",
        "  elif any(farewell in user_input for farewell in farewells):\n",
        "    return \"goodbye! Have a great day.\"\n",
        "\n",
        "  elif any(question in user_input for question in questions):\n",
        "    if 'how are you' in user_input:\n",
        "      return \"I'm a computer program, but thanks for asking! How can I assist you?\"\n",
        "    elif 'what is your name' in user_input or 'who are you' in user_input:\n",
        "      return \"I'm a chatbot. you can call me QUBAIDA.\"\n",
        "    elif 'what do you do' in user_input:\n",
        "      return \"I'm here to chat with you and answer your questions. what can I do for you today?\"\n",
        "    elif 'what is your favorite color' in user_input:\n",
        "      return \"As a  program, I don't have a favorite color. But let's talk your preferences instead!\"\n",
        "    else:\n",
        "      return \"I'm just a chatbot. You can call me QUBAIDA. \"\n",
        "  else:\n",
        "    return default_response\n",
        "print(\"I'm QUBAIDA how can i help you\")\n",
        "print(\"_____________________________________\")\n",
        "while True:\n",
        "  user_input = input(\"You: \")\n",
        "\n",
        "  if user_input.lower() == 'exit':\n",
        "    print(\"Chatbot: Goodbye!\")\n",
        "    break\n",
        "  response = simple_chatbot(user_input)\n",
        "  print(\"Chatbot:\", response)"
      ]
    }
  ]
}